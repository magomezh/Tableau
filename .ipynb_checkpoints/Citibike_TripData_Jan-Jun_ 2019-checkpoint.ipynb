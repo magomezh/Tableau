{
 "cells": [
  {
   "cell_type": "code",
   "execution_count": 1,
   "metadata": {},
   "outputs": [],
   "source": [
    "import pandas as pd\n",
    "from glob import glob\n",
    "import datetime \n",
    "import numpy as np"
   ]
  },
  {
   "cell_type": "code",
   "execution_count": 2,
   "metadata": {},
   "outputs": [],
   "source": [
    "# Using glob module to retrieve the monthly ridership files (matching the specified pattern). \n",
    "trips_data = sorted(glob(\"trip_data/JC-2019_0*-citibike-tripdata.csv\"))\n",
    "# trips_data"
   ]
  },
  {
   "cell_type": "code",
   "execution_count": 3,
   "metadata": {},
   "outputs": [],
   "source": [
    "trips_data_2019 = pd.concat((pd.read_csv(file).assign(filename = file)\n",
    "          for file in trips_data), ignore_index = True)\n",
    "# trips_data_2019"
   ]
  },
  {
   "cell_type": "code",
   "execution_count": 4,
   "metadata": {},
   "outputs": [
    {
     "data": {
      "text/html": [
       "<div>\n",
       "<style scoped>\n",
       "    .dataframe tbody tr th:only-of-type {\n",
       "        vertical-align: middle;\n",
       "    }\n",
       "\n",
       "    .dataframe tbody tr th {\n",
       "        vertical-align: top;\n",
       "    }\n",
       "\n",
       "    .dataframe thead th {\n",
       "        text-align: right;\n",
       "    }\n",
       "</style>\n",
       "<table border=\"1\" class=\"dataframe\">\n",
       "  <thead>\n",
       "    <tr style=\"text-align: right;\">\n",
       "      <th></th>\n",
       "      <th>tripduration</th>\n",
       "      <th>starttime</th>\n",
       "      <th>stoptime</th>\n",
       "      <th>start station id</th>\n",
       "      <th>start station name</th>\n",
       "      <th>start station latitude</th>\n",
       "      <th>start station longitude</th>\n",
       "      <th>end station id</th>\n",
       "      <th>end station name</th>\n",
       "      <th>end station latitude</th>\n",
       "      <th>end station longitude</th>\n",
       "      <th>bikeid</th>\n",
       "      <th>usertype</th>\n",
       "      <th>birth year</th>\n",
       "      <th>gender</th>\n",
       "      <th>filename</th>\n",
       "    </tr>\n",
       "  </thead>\n",
       "  <tbody>\n",
       "  </tbody>\n",
       "</table>\n",
       "</div>"
      ],
      "text/plain": [
       "Empty DataFrame\n",
       "Columns: [tripduration, starttime, stoptime, start station id, start station name, start station latitude, start station longitude, end station id, end station name, end station latitude, end station longitude, bikeid, usertype, birth year, gender, filename]\n",
       "Index: []"
      ]
     },
     "execution_count": 4,
     "metadata": {},
     "output_type": "execute_result"
    }
   ],
   "source": [
    "# Checking for missing values\n",
    "trips_data_2019[trips_data_2019[\"starttime\"].isna() == True]"
   ]
  },
  {
   "cell_type": "code",
   "execution_count": 5,
   "metadata": {},
   "outputs": [],
   "source": [
    "# trips_data_2019[trips_data_2019.duplicated(subset ='starttime') == True]"
   ]
  },
  {
   "cell_type": "code",
   "execution_count": 6,
   "metadata": {},
   "outputs": [],
   "source": [
    "import datetime"
   ]
  },
  {
   "cell_type": "code",
   "execution_count": 7,
   "metadata": {},
   "outputs": [
    {
     "data": {
      "text/plain": [
       "dtype('O')"
      ]
     },
     "execution_count": 7,
     "metadata": {},
     "output_type": "execute_result"
    }
   ],
   "source": [
    "trips_data_2019['starttime'].dtype"
   ]
  },
  {
   "cell_type": "code",
   "execution_count": 8,
   "metadata": {},
   "outputs": [
    {
     "data": {
      "text/plain": [
       "tripduration               0\n",
       "starttime                  0\n",
       "stoptime                   0\n",
       "start station id           0\n",
       "start station name         0\n",
       "start station latitude     0\n",
       "start station longitude    0\n",
       "end station id             0\n",
       "end station name           0\n",
       "end station latitude       0\n",
       "end station longitude      0\n",
       "bikeid                     0\n",
       "usertype                   0\n",
       "birth year                 0\n",
       "gender                     0\n",
       "filename                   0\n",
       "dtype: int64"
      ]
     },
     "execution_count": 8,
     "metadata": {},
     "output_type": "execute_result"
    }
   ],
   "source": [
    "trips_data_2019.isnull().sum()"
   ]
  },
  {
   "cell_type": "code",
   "execution_count": 9,
   "metadata": {},
   "outputs": [
    {
     "data": {
      "text/plain": [
       "(170468, 16)"
      ]
     },
     "execution_count": 9,
     "metadata": {},
     "output_type": "execute_result"
    }
   ],
   "source": [
    "trips_data_2019 = trips_data_2019.dropna(axis=1, how='any')\n",
    "trips_data_2019.shape"
   ]
  },
  {
   "cell_type": "code",
   "execution_count": 10,
   "metadata": {},
   "outputs": [
    {
     "name": "stdout",
     "output_type": "stream",
     "text": [
      "<class 'pandas.core.frame.DataFrame'>\n",
      "RangeIndex: 170468 entries, 0 to 170467\n",
      "Data columns (total 16 columns):\n",
      "tripduration               170468 non-null int64\n",
      "starttime                  170468 non-null datetime64[ns]\n",
      "stoptime                   170468 non-null datetime64[ns]\n",
      "start station id           170468 non-null int64\n",
      "start station name         170468 non-null object\n",
      "start station latitude     170468 non-null float64\n",
      "start station longitude    170468 non-null float64\n",
      "end station id             170468 non-null int64\n",
      "end station name           170468 non-null object\n",
      "end station latitude       170468 non-null float64\n",
      "end station longitude      170468 non-null float64\n",
      "bikeid                     170468 non-null int64\n",
      "usertype                   170468 non-null object\n",
      "birth year                 170468 non-null int64\n",
      "gender                     170468 non-null int64\n",
      "filename                   170468 non-null object\n",
      "dtypes: datetime64[ns](2), float64(4), int64(6), object(4)\n",
      "memory usage: 20.8+ MB\n"
     ]
    }
   ],
   "source": [
    "# Converting to datetime and specifying format, to faciliate separating time and date into two columns\n",
    "trips_data_2019['starttime'] = pd.to_datetime(trips_data_2019['starttime'], format='%Y-%m-%d %H:%M:%S')\n",
    "trips_data_2019['stoptime'] = pd.to_datetime(trips_data_2019['stoptime'], format='%Y-%m-%d %H:%M:%S')\n",
    "trips_data_2019.info()"
   ]
  },
  {
   "cell_type": "code",
   "execution_count": 11,
   "metadata": {},
   "outputs": [
    {
     "data": {
      "text/plain": [
       "0         2019-01-01\n",
       "1         2019-01-01\n",
       "2         2019-01-01\n",
       "3         2019-01-01\n",
       "4         2019-01-01\n",
       "             ...    \n",
       "170463    2019-06-30\n",
       "170464    2019-06-30\n",
       "170465    2019-06-30\n",
       "170466    2019-06-30\n",
       "170467    2019-06-30\n",
       "Name: start_date, Length: 170468, dtype: object"
      ]
     },
     "execution_count": 11,
     "metadata": {},
     "output_type": "execute_result"
    }
   ],
   "source": [
    "# Column for start date\n",
    "trips_data_2019['start_date'] = trips_data_2019['starttime'].dt.date\n",
    "trips_data_2019['start_date']"
   ]
  },
  {
   "cell_type": "code",
   "execution_count": 12,
   "metadata": {},
   "outputs": [
    {
     "data": {
      "text/plain": [
       "0         03:09:09.711000\n",
       "1         05:18:00.106000\n",
       "2         10:36:33.340000\n",
       "3         12:43:38.643000\n",
       "4         12:43:39.601000\n",
       "               ...       \n",
       "170463    23:38:29.545000\n",
       "170464    23:38:34.910000\n",
       "170465    23:42:30.940000\n",
       "170466    23:46:17.570000\n",
       "170467    23:49:01.683000\n",
       "Name: start_time, Length: 170468, dtype: object"
      ]
     },
     "execution_count": 12,
     "metadata": {},
     "output_type": "execute_result"
    }
   ],
   "source": [
    "# Column for start time\n",
    "trips_data_2019['start_time'] = trips_data_2019['starttime'].dt.time\n",
    "trips_data_2019['start_time']"
   ]
  },
  {
   "cell_type": "code",
   "execution_count": 13,
   "metadata": {},
   "outputs": [
    {
     "data": {
      "text/plain": [
       "0         2019-01-01\n",
       "1         2019-01-01\n",
       "2         2019-01-01\n",
       "3         2019-01-01\n",
       "4         2019-01-01\n",
       "             ...    \n",
       "170463    2019-06-30\n",
       "170464    2019-06-30\n",
       "170465    2019-06-30\n",
       "170466    2019-07-01\n",
       "170467    2019-07-01\n",
       "Name: end_date, Length: 170468, dtype: object"
      ]
     },
     "execution_count": 13,
     "metadata": {},
     "output_type": "execute_result"
    }
   ],
   "source": [
    "# Creating column for end date\n",
    "trips_data_2019['end_date'] = trips_data_2019['stoptime'].dt.date\n",
    "trips_data_2019['end_date']"
   ]
  },
  {
   "cell_type": "code",
   "execution_count": 14,
   "metadata": {},
   "outputs": [],
   "source": [
    "# Creating column for end time\n",
    "trips_data_2019['end_time'] = trips_data_2019['stoptime'].dt.time\n",
    "# trips_data_2019['end_time']"
   ]
  },
  {
   "cell_type": "code",
   "execution_count": 15,
   "metadata": {},
   "outputs": [],
   "source": [
    "# trips_data_2019.head()"
   ]
  },
  {
   "cell_type": "code",
   "execution_count": 16,
   "metadata": {},
   "outputs": [],
   "source": [
    "trips_data_2019 = trips_data_2019.drop(columns=['starttime', 'stoptime', 'filename'])\n",
    "# trips_data_2019.head()"
   ]
  },
  {
   "cell_type": "code",
   "execution_count": 17,
   "metadata": {},
   "outputs": [],
   "source": [
    "# trips_data_2019.info()"
   ]
  },
  {
   "cell_type": "code",
   "execution_count": 18,
   "metadata": {},
   "outputs": [],
   "source": [
    "trips_data_2019['start_date'] = pd.to_datetime(trips_data_2019['start_date'], format='%Y-%m-%d')"
   ]
  },
  {
   "cell_type": "code",
   "execution_count": 19,
   "metadata": {},
   "outputs": [],
   "source": [
    "df_weekdays = trips_data_2019[trips_data_2019['start_date'].dt.dayofweek < 5]\n",
    "df_weekends = trips_data_2019[trips_data_2019['start_date'].dt.dayofweek >= 5]"
   ]
  },
  {
   "cell_type": "code",
   "execution_count": 20,
   "metadata": {},
   "outputs": [],
   "source": [
    "trips_data_2019['Age'] = 2019 - trips_data_2019['birth year']\n",
    "# trips_data_2019['Age']"
   ]
  },
  {
   "cell_type": "code",
   "execution_count": 21,
   "metadata": {},
   "outputs": [
    {
     "data": {
      "text/html": [
       "<div>\n",
       "<style scoped>\n",
       "    .dataframe tbody tr th:only-of-type {\n",
       "        vertical-align: middle;\n",
       "    }\n",
       "\n",
       "    .dataframe tbody tr th {\n",
       "        vertical-align: top;\n",
       "    }\n",
       "\n",
       "    .dataframe thead th {\n",
       "        text-align: right;\n",
       "    }\n",
       "</style>\n",
       "<table border=\"1\" class=\"dataframe\">\n",
       "  <thead>\n",
       "    <tr style=\"text-align: right;\">\n",
       "      <th></th>\n",
       "      <th>tripduration</th>\n",
       "      <th>start station id</th>\n",
       "      <th>start station name</th>\n",
       "      <th>start station latitude</th>\n",
       "      <th>start station longitude</th>\n",
       "      <th>end station id</th>\n",
       "      <th>end station name</th>\n",
       "      <th>end station latitude</th>\n",
       "      <th>end station longitude</th>\n",
       "      <th>bikeid</th>\n",
       "      <th>usertype</th>\n",
       "      <th>birth year</th>\n",
       "      <th>gender</th>\n",
       "      <th>start_date</th>\n",
       "      <th>start_time</th>\n",
       "      <th>end_date</th>\n",
       "      <th>end_time</th>\n",
       "      <th>Age</th>\n",
       "    </tr>\n",
       "  </thead>\n",
       "  <tbody>\n",
       "    <tr>\n",
       "      <th>0</th>\n",
       "      <td>201</td>\n",
       "      <td>3183</td>\n",
       "      <td>Exchange Place</td>\n",
       "      <td>40.716247</td>\n",
       "      <td>-74.033459</td>\n",
       "      <td>3214</td>\n",
       "      <td>Essex Light Rail</td>\n",
       "      <td>40.712774</td>\n",
       "      <td>-74.036486</td>\n",
       "      <td>29612</td>\n",
       "      <td>Subscriber</td>\n",
       "      <td>1993</td>\n",
       "      <td>1</td>\n",
       "      <td>2019-01-01</td>\n",
       "      <td>03:09:09.711000</td>\n",
       "      <td>2019-01-01</td>\n",
       "      <td>03:12:30.879000</td>\n",
       "      <td>26</td>\n",
       "    </tr>\n",
       "    <tr>\n",
       "      <th>1</th>\n",
       "      <td>505</td>\n",
       "      <td>3183</td>\n",
       "      <td>Exchange Place</td>\n",
       "      <td>40.716247</td>\n",
       "      <td>-74.033459</td>\n",
       "      <td>3638</td>\n",
       "      <td>Washington St</td>\n",
       "      <td>40.724294</td>\n",
       "      <td>-74.035483</td>\n",
       "      <td>29213</td>\n",
       "      <td>Subscriber</td>\n",
       "      <td>1972</td>\n",
       "      <td>2</td>\n",
       "      <td>2019-01-01</td>\n",
       "      <td>05:18:00.106000</td>\n",
       "      <td>2019-01-01</td>\n",
       "      <td>05:26:25.905000</td>\n",
       "      <td>47</td>\n",
       "    </tr>\n",
       "    <tr>\n",
       "      <th>2</th>\n",
       "      <td>756</td>\n",
       "      <td>3183</td>\n",
       "      <td>Exchange Place</td>\n",
       "      <td>40.716247</td>\n",
       "      <td>-74.033459</td>\n",
       "      <td>3192</td>\n",
       "      <td>Liberty Light Rail</td>\n",
       "      <td>40.711242</td>\n",
       "      <td>-74.055701</td>\n",
       "      <td>26164</td>\n",
       "      <td>Subscriber</td>\n",
       "      <td>1985</td>\n",
       "      <td>1</td>\n",
       "      <td>2019-01-01</td>\n",
       "      <td>10:36:33.340000</td>\n",
       "      <td>2019-01-01</td>\n",
       "      <td>10:49:10.260000</td>\n",
       "      <td>34</td>\n",
       "    </tr>\n",
       "    <tr>\n",
       "      <th>3</th>\n",
       "      <td>1575</td>\n",
       "      <td>3183</td>\n",
       "      <td>Exchange Place</td>\n",
       "      <td>40.716247</td>\n",
       "      <td>-74.033459</td>\n",
       "      <td>3638</td>\n",
       "      <td>Washington St</td>\n",
       "      <td>40.724294</td>\n",
       "      <td>-74.035483</td>\n",
       "      <td>29672</td>\n",
       "      <td>Customer</td>\n",
       "      <td>1969</td>\n",
       "      <td>0</td>\n",
       "      <td>2019-01-01</td>\n",
       "      <td>12:43:38.643000</td>\n",
       "      <td>2019-01-01</td>\n",
       "      <td>13:09:54.528000</td>\n",
       "      <td>50</td>\n",
       "    </tr>\n",
       "    <tr>\n",
       "      <th>4</th>\n",
       "      <td>1566</td>\n",
       "      <td>3183</td>\n",
       "      <td>Exchange Place</td>\n",
       "      <td>40.716247</td>\n",
       "      <td>-74.033459</td>\n",
       "      <td>3638</td>\n",
       "      <td>Washington St</td>\n",
       "      <td>40.724294</td>\n",
       "      <td>-74.035483</td>\n",
       "      <td>29522</td>\n",
       "      <td>Customer</td>\n",
       "      <td>1969</td>\n",
       "      <td>0</td>\n",
       "      <td>2019-01-01</td>\n",
       "      <td>12:43:39.601000</td>\n",
       "      <td>2019-01-01</td>\n",
       "      <td>13:09:46.510000</td>\n",
       "      <td>50</td>\n",
       "    </tr>\n",
       "  </tbody>\n",
       "</table>\n",
       "</div>"
      ],
      "text/plain": [
       "   tripduration  start station id start station name  start station latitude  \\\n",
       "0           201              3183     Exchange Place               40.716247   \n",
       "1           505              3183     Exchange Place               40.716247   \n",
       "2           756              3183     Exchange Place               40.716247   \n",
       "3          1575              3183     Exchange Place               40.716247   \n",
       "4          1566              3183     Exchange Place               40.716247   \n",
       "\n",
       "   start station longitude  end station id    end station name  \\\n",
       "0               -74.033459            3214    Essex Light Rail   \n",
       "1               -74.033459            3638       Washington St   \n",
       "2               -74.033459            3192  Liberty Light Rail   \n",
       "3               -74.033459            3638       Washington St   \n",
       "4               -74.033459            3638       Washington St   \n",
       "\n",
       "   end station latitude  end station longitude  bikeid    usertype  \\\n",
       "0             40.712774             -74.036486   29612  Subscriber   \n",
       "1             40.724294             -74.035483   29213  Subscriber   \n",
       "2             40.711242             -74.055701   26164  Subscriber   \n",
       "3             40.724294             -74.035483   29672    Customer   \n",
       "4             40.724294             -74.035483   29522    Customer   \n",
       "\n",
       "   birth year  gender start_date       start_time    end_date  \\\n",
       "0        1993       1 2019-01-01  03:09:09.711000  2019-01-01   \n",
       "1        1972       2 2019-01-01  05:18:00.106000  2019-01-01   \n",
       "2        1985       1 2019-01-01  10:36:33.340000  2019-01-01   \n",
       "3        1969       0 2019-01-01  12:43:38.643000  2019-01-01   \n",
       "4        1969       0 2019-01-01  12:43:39.601000  2019-01-01   \n",
       "\n",
       "          end_time  Age  \n",
       "0  03:12:30.879000   26  \n",
       "1  05:26:25.905000   47  \n",
       "2  10:49:10.260000   34  \n",
       "3  13:09:54.528000   50  \n",
       "4  13:09:46.510000   50  "
      ]
     },
     "execution_count": 21,
     "metadata": {},
     "output_type": "execute_result"
    }
   ],
   "source": [
    "trips_data_2019 = trips_data_2019[trips_data_2019['Age'] < 90]\n",
    "trips_data_2019.head()"
   ]
  },
  {
   "cell_type": "code",
   "execution_count": 22,
   "metadata": {},
   "outputs": [
    {
     "data": {
      "text/plain": [
       "tripduration                        int64\n",
       "start station id                    int64\n",
       "start station name                 object\n",
       "start station latitude            float64\n",
       "start station longitude           float64\n",
       "end station id                      int64\n",
       "end station name                   object\n",
       "end station latitude              float64\n",
       "end station longitude             float64\n",
       "bikeid                              int64\n",
       "usertype                           object\n",
       "birth year                          int64\n",
       "gender                              int64\n",
       "start_date                 datetime64[ns]\n",
       "start_time                         object\n",
       "end_date                           object\n",
       "end_time                           object\n",
       "Age                                 int64\n",
       "dtype: object"
      ]
     },
     "execution_count": 22,
     "metadata": {},
     "output_type": "execute_result"
    }
   ],
   "source": [
    "trips_data_2019.dtypes"
   ]
  },
  {
   "cell_type": "code",
   "execution_count": 23,
   "metadata": {},
   "outputs": [],
   "source": [
    "# Using 'gender name' as the column name and equating it to the list \n",
    "trips_data_2019['gender name'] = trips_data_2019['gender']"
   ]
  },
  {
   "cell_type": "code",
   "execution_count": 24,
   "metadata": {},
   "outputs": [
    {
     "data": {
      "text/html": [
       "<div>\n",
       "<style scoped>\n",
       "    .dataframe tbody tr th:only-of-type {\n",
       "        vertical-align: middle;\n",
       "    }\n",
       "\n",
       "    .dataframe tbody tr th {\n",
       "        vertical-align: top;\n",
       "    }\n",
       "\n",
       "    .dataframe thead th {\n",
       "        text-align: right;\n",
       "    }\n",
       "</style>\n",
       "<table border=\"1\" class=\"dataframe\">\n",
       "  <thead>\n",
       "    <tr style=\"text-align: right;\">\n",
       "      <th></th>\n",
       "      <th>tripduration</th>\n",
       "      <th>start station id</th>\n",
       "      <th>start station name</th>\n",
       "      <th>start station latitude</th>\n",
       "      <th>start station longitude</th>\n",
       "      <th>end station id</th>\n",
       "      <th>end station name</th>\n",
       "      <th>end station latitude</th>\n",
       "      <th>end station longitude</th>\n",
       "      <th>bikeid</th>\n",
       "      <th>usertype</th>\n",
       "      <th>birth year</th>\n",
       "      <th>gender</th>\n",
       "      <th>start_date</th>\n",
       "      <th>start_time</th>\n",
       "      <th>end_date</th>\n",
       "      <th>end_time</th>\n",
       "      <th>Age</th>\n",
       "      <th>gender name</th>\n",
       "    </tr>\n",
       "  </thead>\n",
       "  <tbody>\n",
       "    <tr>\n",
       "      <th>0</th>\n",
       "      <td>201</td>\n",
       "      <td>3183</td>\n",
       "      <td>Exchange Place</td>\n",
       "      <td>40.716247</td>\n",
       "      <td>-74.033459</td>\n",
       "      <td>3214</td>\n",
       "      <td>Essex Light Rail</td>\n",
       "      <td>40.712774</td>\n",
       "      <td>-74.036486</td>\n",
       "      <td>29612</td>\n",
       "      <td>Subscriber</td>\n",
       "      <td>1993</td>\n",
       "      <td>1</td>\n",
       "      <td>2019-01-01</td>\n",
       "      <td>03:09:09.711000</td>\n",
       "      <td>2019-01-01</td>\n",
       "      <td>03:12:30.879000</td>\n",
       "      <td>26</td>\n",
       "      <td>male</td>\n",
       "    </tr>\n",
       "    <tr>\n",
       "      <th>1</th>\n",
       "      <td>505</td>\n",
       "      <td>3183</td>\n",
       "      <td>Exchange Place</td>\n",
       "      <td>40.716247</td>\n",
       "      <td>-74.033459</td>\n",
       "      <td>3638</td>\n",
       "      <td>Washington St</td>\n",
       "      <td>40.724294</td>\n",
       "      <td>-74.035483</td>\n",
       "      <td>29213</td>\n",
       "      <td>Subscriber</td>\n",
       "      <td>1972</td>\n",
       "      <td>2</td>\n",
       "      <td>2019-01-01</td>\n",
       "      <td>05:18:00.106000</td>\n",
       "      <td>2019-01-01</td>\n",
       "      <td>05:26:25.905000</td>\n",
       "      <td>47</td>\n",
       "      <td>female</td>\n",
       "    </tr>\n",
       "    <tr>\n",
       "      <th>2</th>\n",
       "      <td>756</td>\n",
       "      <td>3183</td>\n",
       "      <td>Exchange Place</td>\n",
       "      <td>40.716247</td>\n",
       "      <td>-74.033459</td>\n",
       "      <td>3192</td>\n",
       "      <td>Liberty Light Rail</td>\n",
       "      <td>40.711242</td>\n",
       "      <td>-74.055701</td>\n",
       "      <td>26164</td>\n",
       "      <td>Subscriber</td>\n",
       "      <td>1985</td>\n",
       "      <td>1</td>\n",
       "      <td>2019-01-01</td>\n",
       "      <td>10:36:33.340000</td>\n",
       "      <td>2019-01-01</td>\n",
       "      <td>10:49:10.260000</td>\n",
       "      <td>34</td>\n",
       "      <td>male</td>\n",
       "    </tr>\n",
       "    <tr>\n",
       "      <th>3</th>\n",
       "      <td>1575</td>\n",
       "      <td>3183</td>\n",
       "      <td>Exchange Place</td>\n",
       "      <td>40.716247</td>\n",
       "      <td>-74.033459</td>\n",
       "      <td>3638</td>\n",
       "      <td>Washington St</td>\n",
       "      <td>40.724294</td>\n",
       "      <td>-74.035483</td>\n",
       "      <td>29672</td>\n",
       "      <td>Customer</td>\n",
       "      <td>1969</td>\n",
       "      <td>0</td>\n",
       "      <td>2019-01-01</td>\n",
       "      <td>12:43:38.643000</td>\n",
       "      <td>2019-01-01</td>\n",
       "      <td>13:09:54.528000</td>\n",
       "      <td>50</td>\n",
       "      <td>unknown</td>\n",
       "    </tr>\n",
       "    <tr>\n",
       "      <th>4</th>\n",
       "      <td>1566</td>\n",
       "      <td>3183</td>\n",
       "      <td>Exchange Place</td>\n",
       "      <td>40.716247</td>\n",
       "      <td>-74.033459</td>\n",
       "      <td>3638</td>\n",
       "      <td>Washington St</td>\n",
       "      <td>40.724294</td>\n",
       "      <td>-74.035483</td>\n",
       "      <td>29522</td>\n",
       "      <td>Customer</td>\n",
       "      <td>1969</td>\n",
       "      <td>0</td>\n",
       "      <td>2019-01-01</td>\n",
       "      <td>12:43:39.601000</td>\n",
       "      <td>2019-01-01</td>\n",
       "      <td>13:09:46.510000</td>\n",
       "      <td>50</td>\n",
       "      <td>unknown</td>\n",
       "    </tr>\n",
       "  </tbody>\n",
       "</table>\n",
       "</div>"
      ],
      "text/plain": [
       "   tripduration  start station id start station name  start station latitude  \\\n",
       "0           201              3183     Exchange Place               40.716247   \n",
       "1           505              3183     Exchange Place               40.716247   \n",
       "2           756              3183     Exchange Place               40.716247   \n",
       "3          1575              3183     Exchange Place               40.716247   \n",
       "4          1566              3183     Exchange Place               40.716247   \n",
       "\n",
       "   start station longitude  end station id    end station name  \\\n",
       "0               -74.033459            3214    Essex Light Rail   \n",
       "1               -74.033459            3638       Washington St   \n",
       "2               -74.033459            3192  Liberty Light Rail   \n",
       "3               -74.033459            3638       Washington St   \n",
       "4               -74.033459            3638       Washington St   \n",
       "\n",
       "   end station latitude  end station longitude  bikeid    usertype  \\\n",
       "0             40.712774             -74.036486   29612  Subscriber   \n",
       "1             40.724294             -74.035483   29213  Subscriber   \n",
       "2             40.711242             -74.055701   26164  Subscriber   \n",
       "3             40.724294             -74.035483   29672    Customer   \n",
       "4             40.724294             -74.035483   29522    Customer   \n",
       "\n",
       "   birth year  gender start_date       start_time    end_date  \\\n",
       "0        1993       1 2019-01-01  03:09:09.711000  2019-01-01   \n",
       "1        1972       2 2019-01-01  05:18:00.106000  2019-01-01   \n",
       "2        1985       1 2019-01-01  10:36:33.340000  2019-01-01   \n",
       "3        1969       0 2019-01-01  12:43:38.643000  2019-01-01   \n",
       "4        1969       0 2019-01-01  12:43:39.601000  2019-01-01   \n",
       "\n",
       "          end_time  Age gender name  \n",
       "0  03:12:30.879000   26        male  \n",
       "1  05:26:25.905000   47      female  \n",
       "2  10:49:10.260000   34        male  \n",
       "3  13:09:54.528000   50     unknown  \n",
       "4  13:09:46.510000   50     unknown  "
      ]
     },
     "execution_count": 24,
     "metadata": {},
     "output_type": "execute_result"
    }
   ],
   "source": [
    "trips_data_2019.loc[trips_data_2019['gender name'] == 2, 'gender name'] = 'female'\n",
    "trips_data_2019.loc[trips_data_2019['gender name'] == 1, 'gender name'] = 'male'\n",
    "trips_data_2019.loc[trips_data_2019['gender name'] == 0, 'gender name'] = 'unknown'\n",
    "trips_data_2019.head()"
   ]
  },
  {
   "cell_type": "code",
   "execution_count": null,
   "metadata": {},
   "outputs": [],
   "source": []
  },
  {
   "cell_type": "code",
   "execution_count": 25,
   "metadata": {},
   "outputs": [
    {
     "name": "stdout",
     "output_type": "stream",
     "text": [
      "start station name          start station latitude\n",
      "5 Corners Library           40.734961                  1144\n",
      "Astor Place                 40.719282                  1789\n",
      "Baldwin at Montgomery       40.723659                  1815\n",
      "Bergen Ave                  40.722104                  1390\n",
      "Brunswick & 6th             40.726012                  3916\n",
      "Brunswick St                40.724176                  3846\n",
      "Christ Hospital             40.734786                  1162\n",
      "City Hall                   40.717733                  4613\n",
      "Columbus Drive              40.718355                  3548\n",
      "Communipaw & Berry Lane     40.714358                   685\n",
      "Dey St                      40.737711                   506\n",
      "Dixon Mills                 40.721630                  2896\n",
      "Essex Light Rail            40.712774                  2670\n",
      "Exchange Place              40.716247                  5303\n",
      "Fairmount Ave               40.725726                  1408\n",
      "Glenwood Ave                40.727551                   897\n",
      "Grand St                    40.715178                  2673\n",
      "Grove St PATH               40.719586                 20561\n",
      "Hamilton Park               40.727596                  9535\n",
      "Harborside                  40.719252                  6988\n",
      "Heights Elevator            40.748716                  1116\n",
      "Hilltop                     40.731169                  1371\n",
      "Hoboken Ave at Monmouth St  40.735208                   104\n",
      "JC Medical Center           40.716540                  2788\n",
      "JCBS Depot                  40.709651                    35\n",
      "Jackson Square              40.711130                   358\n",
      "Jersey & 3rd                40.723332                  3903\n",
      "Jersey & 6th St             40.725289                  3885\n",
      "Journal Square              40.733670                  3723\n",
      "Lafayette Park              40.713464                  1050\n",
      "Leonard Gordon Park         40.745910                  1133\n",
      "Liberty Light Rail          40.711242                  3773\n",
      "Lincoln Park                40.724605                  1339\n",
      "Manila & 1st                40.721651                  3238\n",
      "Marin Light Rail            40.714584                  5351\n",
      "McGinley Square             40.725340                  2558\n",
      "Monmouth and 6th            40.725685                  3325\n",
      "Montgomery St               40.719420                  1970\n",
      "Morris Canal                40.712419                  4225\n",
      "Newark Ave                  40.721525                  4560\n",
      "Newport PATH                40.727224                  7349\n",
      "Newport Pkwy                40.728745                  4531\n",
      "Oakland Ave                 40.737604                  2201\n",
      "Paulus Hook                 40.714145                  4253\n",
      "Pershing Field              40.742677                  2350\n",
      "Riverview Park              40.744319                   897\n",
      "Sip Ave                     40.730743                  2193\n",
      "                            40.730897                  6146\n",
      "Union St                    40.718211                   353\n",
      "Van Vorst Park              40.718489                  3879\n",
      "Warren St                   40.721124                  3744\n",
      "Washington St               40.724294                  3845\n",
      "York St                     40.716490                  1541\n",
      "Name: start station latitude, dtype: int64\n"
     ]
    }
   ],
   "source": [
    "group_data_lat1 = trips_data_2019.groupby(['start station name', 'start station latitude']) ['start station latitude'].count()\n",
    "print(group_data_lat1)"
   ]
  },
  {
   "cell_type": "code",
   "execution_count": 26,
   "metadata": {},
   "outputs": [
    {
     "name": "stdout",
     "output_type": "stream",
     "text": [
      "start station name          start station longitude\n",
      "5 Corners Library           -74.059503                  1144\n",
      "Astor Place                 -74.071262                  1789\n",
      "Baldwin at Montgomery       -74.064194                  1815\n",
      "Bergen Ave                  -74.071455                  1390\n",
      "Brunswick & 6th             -74.050389                  3916\n",
      "Brunswick St                -74.050656                  3846\n",
      "Christ Hospital             -74.050444                  1162\n",
      "City Hall                   -74.043845                  4613\n",
      "Columbus Drive              -74.038914                  3548\n",
      "Communipaw & Berry Lane     -74.066611                   685\n",
      "Dey St                      -74.066921                   506\n",
      "Dixon Mills                 -74.049968                  2896\n",
      "Essex Light Rail            -74.036486                  2670\n",
      "Exchange Place              -74.033459                  5303\n",
      "Fairmount Ave               -74.071959                  1408\n",
      "Glenwood Ave                -74.071061                   897\n",
      "Grand St                    -74.037683                  2673\n",
      "Grove St PATH               -74.043117                 20561\n",
      "Hamilton Park               -74.044247                  9535\n",
      "Harborside                  -74.034234                  6988\n",
      "Heights Elevator            -74.040443                  1116\n",
      "Hilltop                     -74.057574                  1371\n",
      "Hoboken Ave at Monmouth St  -74.046964                   104\n",
      "JC Medical Center           -74.049638                  2788\n",
      "JCBS Depot                  -74.068601                    35\n",
      "Jackson Square              -74.078900                   358\n",
      "Jersey & 3rd                -74.045953                  3903\n",
      "Jersey & 6th St             -74.045572                  3885\n",
      "Journal Square              -74.062500                  3723\n",
      "Lafayette Park              -74.062859                  1050\n",
      "Leonard Gordon Park         -74.057271                  1133\n",
      "Liberty Light Rail          -74.055701                  3773\n",
      "Lincoln Park                -74.078406                  1339\n",
      "Manila & 1st                -74.042884                  3238\n",
      "Marin Light Rail            -74.042817                  5351\n",
      "McGinley Square             -74.067622                  2558\n",
      "Monmouth and 6th            -74.048790                  3325\n",
      "Montgomery St               -74.050990                  1970\n",
      "Morris Canal                -74.038526                  4225\n",
      "Newark Ave                  -74.046305                  4560\n",
      "Newport PATH                -74.033759                  7349\n",
      "Newport Pkwy                -74.032108                  4531\n",
      "Oakland Ave                 -74.052478                  2201\n",
      "Paulus Hook                 -74.033552                  4253\n",
      "Pershing Field              -74.051789                  2350\n",
      "Riverview Park              -74.043991                   897\n",
      "Sip Ave                     -74.063913                  6146\n",
      "                            -74.063784                  2193\n",
      "Union St                    -74.083639                   353\n",
      "Van Vorst Park              -74.047727                  3879\n",
      "Warren St                   -74.038051                  3744\n",
      "Washington St               -74.035483                  3845\n",
      "York St                     -74.041050                  1541\n",
      "Name: start station longitude, dtype: int64\n"
     ]
    }
   ],
   "source": [
    "group_data_long1 = trips_data_2019.groupby(['start station name', 'start station longitude']) ['start station longitude'].count()\n",
    "print(group_data_long1)"
   ]
  },
  {
   "cell_type": "code",
   "execution_count": 27,
   "metadata": {},
   "outputs": [],
   "source": [
    "trips_data_2019['start station latitude'] = trips_data_2019['start station latitude'].round(13)\n",
    "trips_data_2019['start station longitude'] = trips_data_2019['start station longitude'].round(13)"
   ]
  },
  {
   "cell_type": "code",
   "execution_count": 28,
   "metadata": {},
   "outputs": [],
   "source": [
    "trips_data_2019.loc[trips_data_2019['start station latitude'] == 40.7307426253065, 'start station latitude'] = 40.7308970978617\n",
    "trips_data_2019.loc[trips_data_2019['start station longitude'] == -74.0637838840484, 'start station longitude'] = -74.0639126300811"
   ]
  },
  {
   "cell_type": "code",
   "execution_count": 29,
   "metadata": {},
   "outputs": [],
   "source": [
    "import matplotlib as mp\n",
    "import matplotlib.pyplot as plt"
   ]
  },
  {
   "cell_type": "code",
   "execution_count": 30,
   "metadata": {},
   "outputs": [
    {
     "data": {
      "text/plain": [
       "Text(0, 0.5, 'Trip counts')"
      ]
     },
     "execution_count": 30,
     "metadata": {},
     "output_type": "execute_result"
    },
    {
     "data": {
      "image/png": "[encoded data removed]",
      "text/plain": [
       "<Figure size 576x360 with 1 Axes>"
      ]
     },
     "metadata": {
      "needs_background": "light"
     },
     "output_type": "display_data"
    }
   ],
   "source": [
    "\t\t\t\n",
    "# Collect all trips shorter than 3 hours\n",
    "duration_mins = trips_data_2019.loc[(trips_data_2019.tripduration / 60 < 40)][['tripduration']]\n",
    "duration_mins = duration_mins / 60 # In minutes\n",
    "\n",
    "# Plot the distribution of trip durations\n",
    "plt.rcParams.update({'font.size': 16})\n",
    "duration_mins.hist(figsize = (8,5), bins = 15, alpha = 0.5, color = 'blue')\n",
    "plt.tick_params(axis = 'both', which = 'major', labelsize = 18)\n",
    "plt.title('Distribution of trip durations\\n')\n",
    "plt.xlabel('Duration (min.)')\n",
    "plt.ylabel('Trip counts')\n"
   ]
  },
  {
   "cell_type": "code",
   "execution_count": 31,
   "metadata": {},
   "outputs": [],
   "source": [
    "# filter_df = trips_data_2019.loc[(trips_data_2019['start station name'] == \"Sip Ave\") & (trips_data_2019['start station latitude'] < 40.7308)]['start station latitude']"
   ]
  },
  {
   "cell_type": "code",
   "execution_count": 32,
   "metadata": {},
   "outputs": [],
   "source": [
    "# group_data_lat2 = trips_data_2019.groupby(['start station name', 'start station latitude']) ['start station latitude'].count()\n",
    "# print(group_data_lat2)"
   ]
  },
  {
   "cell_type": "code",
   "execution_count": 33,
   "metadata": {},
   "outputs": [],
   "source": [
    "# group_data_long2 = trips_data_2019.groupby(['start station name', 'start station longitude']) ['start station longitude'].count()\n",
    "# print(group_data_long2)"
   ]
  },
  {
   "cell_type": "code",
   "execution_count": null,
   "metadata": {},
   "outputs": [],
   "source": []
  },
  {
   "cell_type": "code",
   "execution_count": 34,
   "metadata": {},
   "outputs": [],
   "source": [
    "# combined_trips_data.to_csv('trip_data/combined_trips_data.csv', sep = ',', header = True, index=False)\n",
    "trips_data_2019.to_csv('trip_data/CitiBike_TripsData_2019.csv', sep = ',', header = True)"
   ]
  },
  {
   "cell_type": "code",
   "execution_count": null,
   "metadata": {},
   "outputs": [],
   "source": []
  }
 ],
 "metadata": {
  "kernelspec": {
   "display_name": "Python 3.7.6 64-bit ('base': conda)",
   "language": "python",
   "name": "python37664bitbaseconda8a3af2bb3e2a4e069d3600e7b9e30516"
  },
  "language_info": {
   "codemirror_mode": {
    "name": "ipython",
    "version": 3
   },
   "file_extension": ".py",
   "mimetype": "text/x-python",
   "name": "python",
   "nbconvert_exporter": "python",
   "pygments_lexer": "ipython3",
   "version": "3.7.6"
  }
 },
 "nbformat": 4,
 "nbformat_minor": 4
}
